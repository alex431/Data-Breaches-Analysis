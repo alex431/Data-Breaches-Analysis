{
 "cells": [
  {
   "cell_type": "markdown",
   "metadata": {},
   "source": [
    "Importing libraries for data manipulation and visualization."
   ]
  },
  {
   "cell_type": "code",
   "execution_count": 2,
   "metadata": {},
   "outputs": [],
   "source": [
    "import pandas as pd\n",
    "import seaborn as sns\n",
    "import matplotlib.pyplot as plt"
   ]
  },
  {
   "cell_type": "markdown",
   "metadata": {},
   "source": [
    "Reading the csv file into a dataframe. Then each column of the dataframe is tranformed into a series for accessibilty."
   ]
  },
  {
   "cell_type": "code",
   "execution_count": 3,
   "metadata": {},
   "outputs": [
    {
     "name": "stdout",
     "output_type": "stream",
     "text": [
      "Index(['Entity', 'Year', 'Records', 'Organization type', 'Method'], dtype='object')\n"
     ]
    }
   ],
   "source": [
    "\n",
    "db = pd.read_csv('DataBreaches(2004-2021).csv')\n",
    "\n",
    "company=db['Entity']\n",
    "year=db['Year']\n",
    "records=db['Records']\n",
    "organization_type=db['Organization type']\n",
    "method = db['Method']\n"
   ]
  }
 ],
 "metadata": {
  "kernelspec": {
   "display_name": "Python 3",
   "language": "python",
   "name": "python3"
  },
  "language_info": {
   "codemirror_mode": {
    "name": "ipython",
    "version": 3
   },
   "file_extension": ".py",
   "mimetype": "text/x-python",
   "name": "python",
   "nbconvert_exporter": "python",
   "pygments_lexer": "ipython3",
   "version": "3.10.6 (tags/v3.10.6:9c7b4bd, Aug  1 2022, 21:53:49) [MSC v.1932 64 bit (AMD64)]"
  },
  "orig_nbformat": 4,
  "vscode": {
   "interpreter": {
    "hash": "6d2fb8733c95201a4b0f45c5624bc1af036dd8fd4160435badf62e8b1e279562"
   }
  }
 },
 "nbformat": 4,
 "nbformat_minor": 2
}
